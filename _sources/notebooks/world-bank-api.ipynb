{
 "cells": [
  {
   "cell_type": "markdown",
   "id": "90700fdc-fcc7-4e54-8c9e-449879d8c66d",
   "metadata": {
    "tags": []
   },
   "source": [
    "# World Bank API\n",
    "\n",
    "> The following is an example of a [Jupyter notebook](https://jupyter.org) - a tutorial of how to retrieve data from the [World Bank Indicators API](https://datahelpdesk.worldbank.org/knowledgebase/articles/889392-about-the-indicators-api-documentation) - that illustrates how to use computational content with the [template](https://datapartnership.org/template). "
   ]
  },
  {
   "cell_type": "markdown",
   "id": "e0d992a6-f656-45ce-a025-f824901e8797",
   "metadata": {},
   "source": [
    "## Requirements"
   ]
  },
  {
   "cell_type": "code",
   "execution_count": null,
   "id": "1811080b-c4c6-43cb-9e46-5cfa65d54abf",
   "metadata": {},
   "outputs": [],
   "source": [
    "import itertools\n",
    "\n",
    "import bokeh\n",
    "import requests\n",
    "import pandas\n",
    "\n",
    "from bokeh.palettes import Spectral6\n",
    "from bokeh.plotting import figure, show, output_notebook\n",
    "from bokeh.models import BasicTickFormatter"
   ]
  },
  {
   "cell_type": "markdown",
   "id": "fb8d2738-535e-4957-b82a-987891955a7f",
   "metadata": {},
   "source": [
    "## Retrieve Data\n",
    "\n",
    "In this example, we retrieve **Population, total** (`SP.POP.TOTL`) from the [World Bank Indicators](https://data.worldbank.org/indicator) for [BRICS](https://infobrics.org)."
   ]
  },
  {
   "cell_type": "code",
   "execution_count": null,
   "id": "c955864a-1889-4f7f-a29e-108b0534846b",
   "metadata": {},
   "outputs": [],
   "source": [
    "url = \"https://api.worldbank.org/v2/country/chn;bra;ind;rus;zaf/indicator/SP.POP.TOTL?format=json&per_page=10000\""
   ]
  },
  {
   "cell_type": "markdown",
   "id": "6b5aac7c-bf80-4daa-a4a4-eebe8edc97bb",
   "metadata": {},
   "source": [
    "Let's use [requests](https://requests.readthedocs.io) to send a GET request,"
   ]
  },
  {
   "cell_type": "code",
   "execution_count": null,
   "id": "8d699f28-853a-40a1-8ea9-8dd566962454",
   "metadata": {},
   "outputs": [],
   "source": [
    "r = requests.get(url)"
   ]
  },
  {
   "cell_type": "markdown",
   "id": "a21cf193-ec13-45b8-9726-bb960ac8586a",
   "metadata": {},
   "source": [
    "Now, let's normalize and create `pandas.DataFrame` from the response,"
   ]
  },
  {
   "cell_type": "code",
   "execution_count": null,
   "id": "3dc152b2-95ba-473a-a416-2c4d5bac7622",
   "metadata": {},
   "outputs": [],
   "source": [
    "# normalize\n",
    "data = pandas.json_normalize(r.json()[-1])\n",
    "\n",
    "df = pandas.DataFrame.from_dict(data)"
   ]
  },
  {
   "cell_type": "markdown",
   "id": "241904c0-35b9-4e43-a3f9-f97738ea9fd1",
   "metadata": {},
   "source": [
    "```{tip}\n",
    "Alternatively, the World Bank API supports downloading the data as an [archive](http://api.worldbank.org/v2/country/all/indicator/SP.POP.TOTL?date=2000&source=2&downloadformat=csv). \n",
    "```"
   ]
  },
  {
   "cell_type": "markdown",
   "id": "bae3462b-f49c-4b8a-badb-8f580b4fc268",
   "metadata": {},
   "source": [
    "Let's take a look at the dataframe, "
   ]
  },
  {
   "cell_type": "code",
   "execution_count": null,
   "id": "c0bbef2d-495c-4140-b8ac-45ee47772142",
   "metadata": {},
   "outputs": [],
   "source": [
    "df = df.pivot_table(values=\"value\", index=\"date\", columns=\"countryiso3code\")"
   ]
  },
  {
   "cell_type": "markdown",
   "id": "cbb05f34",
   "metadata": {},
   "source": [
    "Let's scale to the numbers to **millions**."
   ]
  },
  {
   "cell_type": "code",
   "execution_count": null,
   "id": "392e2224-ffe0-4f98-a568-1be3b4a53fb3",
   "metadata": {},
   "outputs": [],
   "source": [
    "df = df / 1e6"
   ]
  },
  {
   "cell_type": "markdown",
   "id": "27f26a03-6d7a-4c86-8a02-1ea341d7ac5b",
   "metadata": {},
   "source": [
    "## Visualization"
   ]
  },
  {
   "cell_type": "code",
   "execution_count": null,
   "id": "ea29104c-d7ba-4e61-8bd5-b2842455420f",
   "metadata": {},
   "outputs": [],
   "source": [
    "output_notebook()"
   ]
  },
  {
   "cell_type": "code",
   "execution_count": null,
   "id": "78041d94-56a6-43ff-a307-8e8a3b377858",
   "metadata": {},
   "outputs": [],
   "source": [
    "# instantiating the figure object\n",
    "p = figure(title = \"Population, total (World Bank)\", width=700, height=600)\n",
    "\n",
    "# colors\n",
    "colors = itertools.cycle(Spectral6) \n",
    "\n",
    "# plotting the line graph\n",
    "for column, color in zip(df.columns, colors):\n",
    "    p.line(df.index, df[column], legend_label=column, color=color, line_width=2,)\n",
    "\n",
    "p.legend.location = \"right\"\n",
    "p.legend.click_policy=\"mute\"\n",
    "p.title.text_font_size = \"12pt\"\n",
    "\n",
    "p.xaxis.axis_label = \"Year\"\n",
    "p.yaxis.axis_label = \"Population, total (in millions)\""
   ]
  },
  {
   "cell_type": "code",
   "execution_count": null,
   "id": "a8b0a641-59e5-4b7a-8bd5-dc6465eb526b",
   "metadata": {},
   "outputs": [],
   "source": [
    "show(p)"
   ]
  },
  {
   "cell_type": "code",
   "execution_count": null,
   "id": "ac071524-3d61-4c4f-bb92-399bfa874a72",
   "metadata": {},
   "outputs": [],
   "source": []
  }
 ],
 "metadata": {
  "kernelspec": {
   "display_name": "Python 3 (ipykernel)",
   "language": "python",
   "name": "python3"
  },
  "language_info": {
   "codemirror_mode": {
    "name": "ipython",
    "version": 3
   },
   "file_extension": ".py",
   "mimetype": "text/x-python",
   "name": "python",
   "nbconvert_exporter": "python",
   "pygments_lexer": "ipython3",
   "version": "3.9.12"
  },
  "vscode": {
   "interpreter": {
    "hash": "b6702b69e93007336b96338c5a331192f07cedff01d36d4dcfa0f842adb718ad"
   }
  }
 },
 "nbformat": 4,
 "nbformat_minor": 5
}
